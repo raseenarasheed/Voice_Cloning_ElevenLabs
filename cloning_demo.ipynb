{
 "cells": [
  {
   "cell_type": "markdown",
   "id": "0c90f226",
   "metadata": {},
   "source": [
    "### Get The Voice Details"
   ]
  },
  {
   "cell_type": "code",
   "execution_count": 9,
   "id": "2d220b2f",
   "metadata": {},
   "outputs": [],
   "source": [
    "import requests"
   ]
  },
  {
   "cell_type": "code",
   "execution_count": null,
   "id": "b60f8552",
   "metadata": {},
   "outputs": [],
   "source": [
    "xi_api_key=\"\""
   ]
  },
  {
   "cell_type": "code",
   "execution_count": 16,
   "id": "6380a322",
   "metadata": {},
   "outputs": [
    {
     "name": "stdout",
     "output_type": "stream",
     "text": [
      "Total Voices available: 45\n"
     ]
    }
   ],
   "source": [
    "# get the Voices details using API key\n",
    "url = \"https://api.elevenlabs.io/v1/voices\"\n",
    "\n",
    "headers = {\"xi-api-key\":xi_api_key }\n",
    "\n",
    "response = requests.request(\"GET\", url, headers=headers)\n",
    "\n",
    "print(\"Total Voices available:\",len(response.json()[\"voices\"]))"
   ]
  },
  {
   "cell_type": "code",
   "execution_count": 93,
   "id": "75c8e00e",
   "metadata": {},
   "outputs": [
    {
     "data": {
      "text/plain": [
       "'21m00Tcm4TlvDq8ikWAM'"
      ]
     },
     "execution_count": 93,
     "metadata": {},
     "output_type": "execute_result"
    }
   ],
   "source": [
    "response.json()[\"voices\"][0]['voice_id']"
   ]
  },
  {
   "cell_type": "code",
   "execution_count": 17,
   "id": "743641d0",
   "metadata": {},
   "outputs": [
    {
     "data": {
      "text/plain": [
       "{'Rachel': '21m00Tcm4TlvDq8ikWAM',\n",
       " 'Drew': '29vD33N1CtxCmqQRPOHJ',\n",
       " 'Clyde': '2EiwWnXFnvU5JabPnv8n',\n",
       " 'Paul': '5Q0t7uMcjvnagumLfvZi',\n",
       " 'Domi': 'AZnzlk1XvdvUeBnXmlld',\n",
       " 'Dave': 'CYw3kZ02Hs0563khs1Fj',\n",
       " 'Fin': 'D38z5RcWu1voky8WS1ja',\n",
       " 'Sarah': 'EXAVITQu4vr4xnSDxMaL',\n",
       " 'Antoni': 'ErXwobaYiN019PkySvjV',\n",
       " 'Thomas': 'GBv7mTt0atIp3Br8iCZE',\n",
       " 'Charlie': 'IKne3meq5aSn9XLyUdCD',\n",
       " 'George': 'JBFqnCBsd6RMkjVDRZzb',\n",
       " 'Emily': 'LcfcDJNUP1GQjkzn1xUU',\n",
       " 'Elli': 'MF3mGyEYCl7XYWbV9V6O',\n",
       " 'Callum': 'N2lVS1w4EtoT3dr4eOWO',\n",
       " 'Patrick': 'ODq5zmih8GrVes37Dizd',\n",
       " 'Harry': 'SOYHLrjzK2X1ezoPC6cr',\n",
       " 'Liam': 'TX3LPaxmHKxFdv7VOQHJ',\n",
       " 'Dorothy': 'ThT5KcBeYPX3keUQqHPh',\n",
       " 'Josh': 'TxGEqnHWrfWFTfGW9XjX',\n",
       " 'Arnold': 'VR6AewLTigWG4xSOukaG',\n",
       " 'Charlotte': 'XB0fDUnXU5powFXDhCwa',\n",
       " 'Matilda': 'XrExE9yKIg1WjnnlVkGX',\n",
       " 'Matthew': 'Yko7PKHZNXotIFUBG7I9',\n",
       " 'James': 'ZQe5CZNOzWyzPSCn5a3c',\n",
       " 'Joseph': 'Zlb1dXrM653N07WRdFW3',\n",
       " 'Jeremy': 'bVMeCyTHy58xNoL34h3p',\n",
       " 'Michael': 'flq6f7yk4E4fJM5XTYuZ',\n",
       " 'Ethan': 'g5CIjZEefAph4nQFvHAz',\n",
       " 'Gigi': 'jBpfuIE2acCO8z3wKNLl',\n",
       " 'Freya': 'jsCqWAovK2LkecY7zXl4',\n",
       " '🎅 Santa Claus': 'knrPHWnBmmDHMoiMeP3l',\n",
       " 'Grace': 'oWAxZDx7w5VEj9dCyTzz',\n",
       " 'Daniel': 'onwK4e9ZLuTAKqWW03F9',\n",
       " 'Lily': 'pFZP5JQG7iQjIQuC4Bku',\n",
       " 'Serena': 'pMsXgVXv3BLzUgSXRplE',\n",
       " 'Adam': 'pNInz6obpgDQGcFmaJgB',\n",
       " 'Nicole': 'piTKgcLEGmPE4e6mEKli',\n",
       " 'Bill': 'pqHfZKP75CvOlQylNhV4',\n",
       " 'Jessie': 't0jbNlBVZ17f02VDIeMI',\n",
       " 'Sam': 'yoZ06aMxZJJ28mfd3POQ',\n",
       " 'Glinda': 'z9fAnlkpzviPz146aGWa',\n",
       " 'Giovanni': 'zcAOhNBS3c14rBihAFp1',\n",
       " 'Mimi': 'zrHiDhphv9ZnVXBqCLjz',\n",
       " 'Rasee': '2jbkAwXfYfl0AiFOsUgd'}"
      ]
     },
     "execution_count": 17,
     "metadata": {},
     "output_type": "execute_result"
    }
   ],
   "source": [
    "# get the voice name & Voice Id \n",
    "voice_name={}\n",
    "\n",
    "for i in range(0,45):\n",
    "    voice_name[response.json()[\"voices\"][i]['name']]=response.json()[\"voices\"][i]['voice_id']\n",
    "\n",
    "voice_name"
   ]
  },
  {
   "cell_type": "markdown",
   "id": "ae25a595",
   "metadata": {},
   "source": [
    "# Added my voice to Elevenlabs-API call"
   ]
  },
  {
   "cell_type": "code",
   "execution_count": 89,
   "id": "d0c7417f",
   "metadata": {},
   "outputs": [
    {
     "name": "stdout",
     "output_type": "stream",
     "text": [
      "Voice files uploaded successfully!\n",
      "{'voice_id': 'LVNMvTaEIJkLviGGOAHb'}\n"
     ]
    }
   ],
   "source": [
    "import requests\n",
    "\n",
    "url = \"https://api.elevenlabs.io/v1/voices/add\"\n",
    "\n",
    "files = {\n",
    "    'files': ('1.wav', open('/Users/raseenakuttippallintakath/Desktop/Internship/ElevenLabs/1.wav', 'rb'), 'audio/wav')\n",
    "}\n",
    "\n",
    "data = {\n",
    "    \"name\": \"Raseena\",  # Replace with the desired name for your voice\n",
    "}\n",
    "\n",
    "headers = {\n",
    "    \"xi-api-key\": xi_api_key,\n",
    "}\n",
    "\n",
    "try:\n",
    "    response = requests.post(url, headers=headers, files=files, data=data)\n",
    "\n",
    "    if response.status_code == 200:\n",
    "        print(\"Voice files uploaded successfully!\")\n",
    "        print(response.json())\n",
    "    else:\n",
    "        print(f\"Error uploading voice files. Status code: {response.status_code}\")\n",
    "        print(response.text)\n",
    "\n",
    "except Exception as e:\n",
    "    print(f\"An error occurred: {e}\")"
   ]
  },
  {
   "cell_type": "code",
   "execution_count": 6,
   "id": "adce9b80",
   "metadata": {},
   "outputs": [],
   "source": [
    "# text to generate the speech for\n",
    "test_to_synthesis=\"Once upon a time there were three little kittens, and their names were Mittens, Tom Kitten, and Moppet. They had dear little fur coats of their own; and they tumbled about the doorstep and played in the dust. But one day their mother-Mrs. Tabitha Twitchit- expected friends to tea; so she fetched the kittens indoors, to wash and dress them, before the fine company arrived. First she scrubbed their faces (this one is Moppet). Then she brushed their fur, (this one is Mittens). Then she combed their tails and whiskers (this is Tom Kitten). Tom was very naughty, and he scratched. Mrs. Tabitha dressed Moppet and Mittens in clean pinafores and tuckers; and then she took all sorts of elegant uncomfortable clothes out of a chest of drawers, in order to dress up her son Thomas. Tom Kitten was very fat, and he had grown; several buttons burst off. His mother sewed them on again. When the three kittens were ready, Mrs. Tabitha unwisely turned them out into the garden, to be out of the way while she made hot buttered toast. \""
   ]
  },
  {
   "cell_type": "markdown",
   "id": "7d53b2ac",
   "metadata": {},
   "source": [
    "# Speech Synthesis "
   ]
  },
  {
   "cell_type": "code",
   "execution_count": 7,
   "id": "9fce8c10",
   "metadata": {},
   "outputs": [],
   "source": [
    "# Create a function of speech synthesis \n",
    "\n",
    "def synthesis_speech(voice_id):\n",
    "\n",
    "    #url\n",
    "    url = f\"https://api.elevenlabs.io/v1/text-to-speech/{voice_id}\"\n",
    "\n",
    "\n",
    "    CHUNK_SIZE = 1024\n",
    "\n",
    "    headers = {\n",
    "      \"Accept\": \"audio/mpeg\",\n",
    "      \"Content-Type\": \"application/json\",\n",
    "      \"xi-api-key\": xi_api_key\n",
    "    }\n",
    "\n",
    "    data = {\n",
    "      \"text\": test_to_synthesis,\n",
    "      \"model_id\": \"eleven_monolingual_v1\",\n",
    "      \"voice_settings\": {\n",
    "        \"stability\": 0.5,\n",
    "        \"similarity_boost\": 0.5\n",
    "      }\n",
    "    }\n",
    "\n",
    "    response = requests.post(url, json=data, headers=headers)\n",
    "    with open('output.mp3', 'wb') as f:\n",
    "        for chunk in response.iter_content(chunk_size=CHUNK_SIZE):\n",
    "            if chunk:\n",
    "                f.write(chunk)"
   ]
  },
  {
   "cell_type": "code",
   "execution_count": 10,
   "id": "97264293",
   "metadata": {},
   "outputs": [],
   "source": [
    "# synthesis speech for pre defined text to speech model\n",
    "synthesis_speech(\"SOYHLrjzK2X1ezoPC6cr\")\n",
    "\n",
    "# synthesising speech for my own voice\n",
    "synthesis_speech(\"2jbkAwXfYfl0AiFOsUgd\")"
   ]
  },
  {
   "cell_type": "markdown",
   "id": "52199932",
   "metadata": {},
   "source": [
    "# Using Open AI"
   ]
  },
  {
   "cell_type": "code",
   "execution_count": 1,
   "id": "cb6e4f50",
   "metadata": {},
   "outputs": [],
   "source": [
    "#pip install openai"
   ]
  },
  {
   "cell_type": "code",
   "execution_count": 11,
   "id": "7e928ce7",
   "metadata": {},
   "outputs": [],
   "source": [
    "from openai import OpenAI\n",
    "\n",
    "api_key = ''\n",
    "\n",
    "client = OpenAI(api_key=api_key)\n",
    "\n",
    "response = client.audio.speech.create(\n",
    "    model=\"tts-1\",\n",
    "    voice=\"alloy\",\n",
    "    input=test_to_synthesis,\n",
    ")\n",
    "\n",
    "response.stream_to_file(\"output.mp3\")"
   ]
  }
 ],
 "metadata": {
  "kernelspec": {
   "display_name": "Python 3 (ipykernel)",
   "language": "python",
   "name": "python3"
  },
  "language_info": {
   "codemirror_mode": {
    "name": "ipython",
    "version": 3
   },
   "file_extension": ".py",
   "mimetype": "text/x-python",
   "name": "python",
   "nbconvert_exporter": "python",
   "pygments_lexer": "ipython3",
   "version": "3.9.13"
  }
 },
 "nbformat": 4,
 "nbformat_minor": 5
}
